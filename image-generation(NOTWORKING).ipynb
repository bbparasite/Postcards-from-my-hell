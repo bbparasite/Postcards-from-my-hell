{
  "nbformat": 4,
  "nbformat_minor": 0,
  "metadata": {
    "colab": {
      "provenance": [],
      "machine_shape": "hm",
      "gpuType": "T4"
    },
    "kernelspec": {
      "name": "python3",
      "display_name": "Python 3"
    },
    "language_info": {
      "name": "python"
    },
    "accelerator": "GPU"
  },
  "cells": [
    {
      "cell_type": "markdown",
      "source": [
        "# Image Generation w/ Hugging Face"
      ],
      "metadata": {
        "id": "HHFHIGhjYm1T"
      }
    },
    {
      "cell_type": "code",
      "source": [
        "# Install necessary libraries\n",
        "!pip install diffusers datasets transformers accelerate scipy ftfy\n",
        "\n",
        "import datasets\n",
        "import diffusers\n",
        "import huggingface_hub\n",
        "import torch\n",
        "from diffusers import DDPMPipeline\n",
        "from PIL import Image\n",
        "from datasets import load_dataset\n",
        "from torchvision import transforms\n",
        "from diffusers import DDPMScheduler\n",
        "from diffusers import UNet2DModel\n",
        "from torch.nn import functional as F\n",
        "from matplotlib import pyplot as plt\n",
        "\n",
        "# Suppress warnings\n",
        "datasets.logging.set_verbosity_error()\n",
        "diffusers.logging.set_verbosity_error()\n",
        "huggingface_hub.logging.set_verbosity_error()\n",
        "\n",
        "# Load your own dataset\n",
        "dataset = load_dataset(\"lucabaggi/animal-wildlife\", split=\"train\")  # Example dataset, replace with your dataset\n",
        "\n",
        "\n",
        "# Create a subset of the first 256 images\n",
        "dataset = dataset.select(range(256))\n",
        "\n",
        "# Check the length of the subset\n",
        "print(f\"Length of the subset: {len(dataset)}\")\n",
        "\n",
        "# Preprocessing\n",
        "image_size = 16\n",
        "preprocess = transforms.Compose(\n",
        "    [\n",
        "        transforms.Resize((image_size, image_size)),\n",
        "        transforms.RandomHorizontalFlip(),\n",
        "        transforms.ToTensor(),\n",
        "        transforms.Normalize([0.5], [0.5]),\n",
        "    ]\n",
        ")\n",
        "\n",
        "def transform(examples):\n",
        "    examples[\"pixel_values\"] = [preprocess(image.convert(\"RGB\")) for image in examples[\"image\"]]\n",
        "    return examples\n",
        "\n",
        "# Apply the transform to the dataset\n",
        "dataset.set_transform(transform)\n",
        "\n",
        "# Create a custom dataset class to return tensors directly\n",
        "class TensorDataset(torch.utils.data.Dataset):\n",
        "    def __init__(self, hf_dataset):\n",
        "        self.hf_dataset = hf_dataset\n",
        "\n",
        "    def __len__(self):\n",
        "        return len(self.hf_dataset)\n",
        "\n",
        "    def __getitem__(self, idx):\n",
        "        return self.hf_dataset[idx][\"pixel_values\"]  # Return tensor directly\n",
        "\n",
        "# Wrap the dataset in the custom class\n",
        "tensor_dataset = TensorDataset(dataset)\n",
        "\n",
        "# Create dataloader\n",
        "batch_size = 16\n",
        "train_dataloader = torch.utils.data.DataLoader(tensor_dataset, batch_size=batch_size, shuffle=True)\n",
        "\n",
        "# Model and scheduler\n",
        "model = UNet2DModel(\n",
        "    sample_size=image_size,\n",
        "    in_channels=3,\n",
        "    out_channels=3,\n",
        "    layers_per_block=2,\n",
        "    block_out_channels=(32, 64, 128, 256),  # Number of channels in each block\n",
        "    down_block_types=(\n",
        "        \"DownBlock2D\",     # Downsampling blocks\n",
        "        \"DownBlock2D\",\n",
        "        \"AttnDownBlock2D\", # Downsampling blocks with attention\n",
        "        \"AttnDownBlock2D\",\n",
        "    ),\n",
        "    up_block_types=(\n",
        "        \"AttnUpBlock2D\",   # Upsampling blocks with attention\n",
        "        \"AttnUpBlock2D\",\n",
        "        \"UpBlock2D\",       # Upsampling blocks\n",
        "        \"UpBlock2D\"),\n",
        ").to(\"cuda\")\n",
        "\n",
        "noise_scheduler = DDPMScheduler(num_train_timesteps=1000)\n",
        "\n",
        "# Optimizer\n",
        "optimizer = torch.optim.AdamW(model.parameters(), lr=2e-5)\n",
        "\n",
        "# Training loop\n",
        "num_epochs = 10  # Adjust as needed\n",
        "\n",
        "for epoch in range(num_epochs):\n",
        "    for step, batch in enumerate(train_dataloader):\n",
        "        clean_images = batch.to(\"cuda\")  # Move batch to GPU\n",
        "        noise = torch.randn(clean_images.shape).to(\"cuda\")\n",
        "        timesteps = torch.randint(0, noise_scheduler.config.num_train_timesteps, (batch_size,), device=\"cuda\").long()\n",
        "        noisy_images = noise_scheduler.add_noise(clean_images, noise, timesteps)\n",
        "\n",
        "        noise_pred = model(noisy_images, timesteps).sample\n",
        "        loss = F.mse_loss(noise_pred, noise)\n",
        "\n",
        "        optimizer.zero_grad()\n",
        "        loss.backward()\n",
        "        optimizer.step()\n",
        "\n",
        "        if step % 100 == 0:\n",
        "            print(f\"Epoch {epoch}, Step {step}: Loss = {loss.item()}\")\n",
        "\n",
        "# Save the model\n",
        "# Replace with your desired path\n",
        "torch.save(model.state_dict(), \"animal_diffusion_model.pth\")"
      ],
      "metadata": {
        "id": "8d9B2sCQjTu2",
        "colab": {
          "base_uri": "https://localhost:8080/"
        },
        "outputId": "7503c9e1-2363-49c6-916d-ab047c7604d0"
      },
      "execution_count": null,
      "outputs": [
        {
          "output_type": "stream",
          "name": "stdout",
          "text": [
            "Looking in indexes: https://pypi.org/simple, https://pypi.ngc.nvidia.com\n",
            "Requirement already satisfied: diffusers in c:\\users\\norri\\appdata\\local\\packages\\pythonsoftwarefoundation.python.3.11_qbz5n2kfra8p0\\localcache\\local-packages\\python311\\site-packages (0.32.2)\n",
            "Requirement already satisfied: datasets in c:\\users\\norri\\appdata\\local\\packages\\pythonsoftwarefoundation.python.3.11_qbz5n2kfra8p0\\localcache\\local-packages\\python311\\site-packages (3.3.2)\n",
            "Requirement already satisfied: transformers in c:\\users\\norri\\appdata\\local\\packages\\pythonsoftwarefoundation.python.3.11_qbz5n2kfra8p0\\localcache\\local-packages\\python311\\site-packages (4.49.0)\n",
            "Requirement already satisfied: accelerate in c:\\users\\norri\\appdata\\local\\packages\\pythonsoftwarefoundation.python.3.11_qbz5n2kfra8p0\\localcache\\local-packages\\python311\\site-packages (1.4.0)\n",
            "Requirement already satisfied: scipy in c:\\users\\norri\\appdata\\local\\packages\\pythonsoftwarefoundation.python.3.11_qbz5n2kfra8p0\\localcache\\local-packages\\python311\\site-packages (1.15.2)\n",
            "Requirement already satisfied: ftfy in c:\\users\\norri\\appdata\\local\\packages\\pythonsoftwarefoundation.python.3.11_qbz5n2kfra8p0\\localcache\\local-packages\\python311\\site-packages (6.3.1)\n",
            "Requirement already satisfied: importlib-metadata in c:\\users\\norri\\appdata\\local\\packages\\pythonsoftwarefoundation.python.3.11_qbz5n2kfra8p0\\localcache\\local-packages\\python311\\site-packages (from diffusers) (8.6.1)\n",
            "Requirement already satisfied: filelock in c:\\users\\norri\\appdata\\local\\packages\\pythonsoftwarefoundation.python.3.11_qbz5n2kfra8p0\\localcache\\local-packages\\python311\\site-packages (from diffusers) (3.17.0)\n",
            "Requirement already satisfied: huggingface-hub>=0.23.2 in c:\\users\\norri\\appdata\\local\\packages\\pythonsoftwarefoundation.python.3.11_qbz5n2kfra8p0\\localcache\\local-packages\\python311\\site-packages (from diffusers) (0.29.1)\n",
            "Requirement already satisfied: numpy in c:\\users\\norri\\appdata\\local\\packages\\pythonsoftwarefoundation.python.3.11_qbz5n2kfra8p0\\localcache\\local-packages\\python311\\site-packages (from diffusers) (2.2.3)\n",
            "Requirement already satisfied: regex!=2019.12.17 in c:\\users\\norri\\appdata\\local\\packages\\pythonsoftwarefoundation.python.3.11_qbz5n2kfra8p0\\localcache\\local-packages\\python311\\site-packages (from diffusers) (2024.11.6)\n",
            "Requirement already satisfied: requests in c:\\users\\norri\\appdata\\local\\packages\\pythonsoftwarefoundation.python.3.11_qbz5n2kfra8p0\\localcache\\local-packages\\python311\\site-packages (from diffusers) (2.32.3)\n",
            "Requirement already satisfied: safetensors>=0.3.1 in c:\\users\\norri\\appdata\\local\\packages\\pythonsoftwarefoundation.python.3.11_qbz5n2kfra8p0\\localcache\\local-packages\\python311\\site-packages (from diffusers) (0.5.2)\n",
            "Requirement already satisfied: Pillow in c:\\users\\norri\\appdata\\local\\packages\\pythonsoftwarefoundation.python.3.11_qbz5n2kfra8p0\\localcache\\local-packages\\python311\\site-packages (from diffusers) (11.1.0)\n",
            "Requirement already satisfied: pyarrow>=15.0.0 in c:\\users\\norri\\appdata\\local\\packages\\pythonsoftwarefoundation.python.3.11_qbz5n2kfra8p0\\localcache\\local-packages\\python311\\site-packages (from datasets) (19.0.1)\n",
            "Requirement already satisfied: dill<0.3.9,>=0.3.0 in c:\\users\\norri\\appdata\\local\\packages\\pythonsoftwarefoundation.python.3.11_qbz5n2kfra8p0\\localcache\\local-packages\\python311\\site-packages (from datasets) (0.3.8)\n",
            "Requirement already satisfied: pandas in c:\\users\\norri\\appdata\\local\\packages\\pythonsoftwarefoundation.python.3.11_qbz5n2kfra8p0\\localcache\\local-packages\\python311\\site-packages (from datasets) (2.2.3)\n",
            "Requirement already satisfied: tqdm>=4.66.3 in c:\\users\\norri\\appdata\\local\\packages\\pythonsoftwarefoundation.python.3.11_qbz5n2kfra8p0\\localcache\\local-packages\\python311\\site-packages (from datasets) (4.67.1)\n",
            "Requirement already satisfied: xxhash in c:\\users\\norri\\appdata\\local\\packages\\pythonsoftwarefoundation.python.3.11_qbz5n2kfra8p0\\localcache\\local-packages\\python311\\site-packages (from datasets) (3.5.0)\n",
            "Requirement already satisfied: multiprocess<0.70.17 in c:\\users\\norri\\appdata\\local\\packages\\pythonsoftwarefoundation.python.3.11_qbz5n2kfra8p0\\localcache\\local-packages\\python311\\site-packages (from datasets) (0.70.16)\n",
            "Requirement already satisfied: fsspec<=2024.12.0,>=2023.1.0 in c:\\users\\norri\\appdata\\local\\packages\\pythonsoftwarefoundation.python.3.11_qbz5n2kfra8p0\\localcache\\local-packages\\python311\\site-packages (from fsspec[http]<=2024.12.0,>=2023.1.0->datasets) (2024.12.0)\n",
            "Requirement already satisfied: aiohttp in c:\\users\\norri\\appdata\\local\\packages\\pythonsoftwarefoundation.python.3.11_qbz5n2kfra8p0\\localcache\\local-packages\\python311\\site-packages (from datasets) (3.11.12)\n",
            "Requirement already satisfied: packaging in c:\\users\\norri\\appdata\\local\\packages\\pythonsoftwarefoundation.python.3.11_qbz5n2kfra8p0\\localcache\\local-packages\\python311\\site-packages (from datasets) (24.2)\n",
            "Requirement already satisfied: pyyaml>=5.1 in c:\\users\\norri\\appdata\\local\\packages\\pythonsoftwarefoundation.python.3.11_qbz5n2kfra8p0\\localcache\\local-packages\\python311\\site-packages (from datasets) (6.0.2)\n",
            "Requirement already satisfied: tokenizers<0.22,>=0.21 in c:\\users\\norri\\appdata\\local\\packages\\pythonsoftwarefoundation.python.3.11_qbz5n2kfra8p0\\localcache\\local-packages\\python311\\site-packages (from transformers) (0.21.0)\n",
            "Requirement already satisfied: psutil in c:\\users\\norri\\appdata\\local\\packages\\pythonsoftwarefoundation.python.3.11_qbz5n2kfra8p0\\localcache\\local-packages\\python311\\site-packages (from accelerate) (7.0.0)\n",
            "Requirement already satisfied: torch>=2.0.0 in c:\\users\\norri\\appdata\\local\\packages\\pythonsoftwarefoundation.python.3.11_qbz5n2kfra8p0\\localcache\\local-packages\\python311\\site-packages (from accelerate) (2.6.0+cu126)\n",
            "Requirement already satisfied: wcwidth in c:\\users\\norri\\appdata\\local\\packages\\pythonsoftwarefoundation.python.3.11_qbz5n2kfra8p0\\localcache\\local-packages\\python311\\site-packages (from ftfy) (0.2.13)\n",
            "Requirement already satisfied: aiohappyeyeballs>=2.3.0 in c:\\users\\norri\\appdata\\local\\packages\\pythonsoftwarefoundation.python.3.11_qbz5n2kfra8p0\\localcache\\local-packages\\python311\\site-packages (from aiohttp->datasets) (2.4.6)\n",
            "Requirement already satisfied: aiosignal>=1.1.2 in c:\\users\\norri\\appdata\\local\\packages\\pythonsoftwarefoundation.python.3.11_qbz5n2kfra8p0\\localcache\\local-packages\\python311\\site-packages (from aiohttp->datasets) (1.3.2)\n",
            "Requirement already satisfied: attrs>=17.3.0 in c:\\users\\norri\\appdata\\local\\packages\\pythonsoftwarefoundation.python.3.11_qbz5n2kfra8p0\\localcache\\local-packages\\python311\\site-packages (from aiohttp->datasets) (25.1.0)\n",
            "Requirement already satisfied: frozenlist>=1.1.1 in c:\\users\\norri\\appdata\\local\\packages\\pythonsoftwarefoundation.python.3.11_qbz5n2kfra8p0\\localcache\\local-packages\\python311\\site-packages (from aiohttp->datasets) (1.5.0)\n",
            "Requirement already satisfied: multidict<7.0,>=4.5 in c:\\users\\norri\\appdata\\local\\packages\\pythonsoftwarefoundation.python.3.11_qbz5n2kfra8p0\\localcache\\local-packages\\python311\\site-packages (from aiohttp->datasets) (6.1.0)\n",
            "Requirement already satisfied: propcache>=0.2.0 in c:\\users\\norri\\appdata\\local\\packages\\pythonsoftwarefoundation.python.3.11_qbz5n2kfra8p0\\localcache\\local-packages\\python311\\site-packages (from aiohttp->datasets) (0.3.0)\n",
            "Requirement already satisfied: yarl<2.0,>=1.17.0 in c:\\users\\norri\\appdata\\local\\packages\\pythonsoftwarefoundation.python.3.11_qbz5n2kfra8p0\\localcache\\local-packages\\python311\\site-packages (from aiohttp->datasets) (1.18.3)\n",
            "Requirement already satisfied: typing-extensions>=3.7.4.3 in c:\\users\\norri\\appdata\\local\\packages\\pythonsoftwarefoundation.python.3.11_qbz5n2kfra8p0\\localcache\\local-packages\\python311\\site-packages (from huggingface-hub>=0.23.2->diffusers) (4.12.2)\n",
            "Requirement already satisfied: charset-normalizer<4,>=2 in c:\\users\\norri\\appdata\\local\\packages\\pythonsoftwarefoundation.python.3.11_qbz5n2kfra8p0\\localcache\\local-packages\\python311\\site-packages (from requests->diffusers) (3.4.1)\n",
            "Requirement already satisfied: idna<4,>=2.5 in c:\\users\\norri\\appdata\\local\\packages\\pythonsoftwarefoundation.python.3.11_qbz5n2kfra8p0\\localcache\\local-packages\\python311\\site-packages (from requests->diffusers) (3.10)\n",
            "Requirement already satisfied: urllib3<3,>=1.21.1 in c:\\users\\norri\\appdata\\local\\packages\\pythonsoftwarefoundation.python.3.11_qbz5n2kfra8p0\\localcache\\local-packages\\python311\\site-packages (from requests->diffusers) (2.3.0)\n",
            "Requirement already satisfied: certifi>=2017.4.17 in c:\\users\\norri\\appdata\\local\\packages\\pythonsoftwarefoundation.python.3.11_qbz5n2kfra8p0\\localcache\\local-packages\\python311\\site-packages (from requests->diffusers) (2025.1.31)\n",
            "Requirement already satisfied: networkx in c:\\users\\norri\\appdata\\local\\packages\\pythonsoftwarefoundation.python.3.11_qbz5n2kfra8p0\\localcache\\local-packages\\python311\\site-packages (from torch>=2.0.0->accelerate) (3.4.2)\n",
            "Requirement already satisfied: jinja2 in c:\\users\\norri\\appdata\\local\\packages\\pythonsoftwarefoundation.python.3.11_qbz5n2kfra8p0\\localcache\\local-packages\\python311\\site-packages (from torch>=2.0.0->accelerate) (3.1.5)\n",
            "Requirement already satisfied: sympy==1.13.1 in c:\\users\\norri\\appdata\\local\\packages\\pythonsoftwarefoundation.python.3.11_qbz5n2kfra8p0\\localcache\\local-packages\\python311\\site-packages (from torch>=2.0.0->accelerate) (1.13.1)\n",
            "Requirement already satisfied: mpmath<1.4,>=1.1.0 in c:\\users\\norri\\appdata\\local\\packages\\pythonsoftwarefoundation.python.3.11_qbz5n2kfra8p0\\localcache\\local-packages\\python311\\site-packages (from sympy==1.13.1->torch>=2.0.0->accelerate) (1.3.0)\n",
            "Requirement already satisfied: colorama in c:\\users\\norri\\appdata\\local\\packages\\pythonsoftwarefoundation.python.3.11_qbz5n2kfra8p0\\localcache\\local-packages\\python311\\site-packages (from tqdm>=4.66.3->datasets) (0.4.6)\n",
            "Requirement already satisfied: zipp>=3.20 in c:\\users\\norri\\appdata\\local\\packages\\pythonsoftwarefoundation.python.3.11_qbz5n2kfra8p0\\localcache\\local-packages\\python311\\site-packages (from importlib-metadata->diffusers) (3.21.0)\n",
            "Requirement already satisfied: python-dateutil>=2.8.2 in c:\\users\\norri\\appdata\\local\\packages\\pythonsoftwarefoundation.python.3.11_qbz5n2kfra8p0\\localcache\\local-packages\\python311\\site-packages (from pandas->datasets) (2.9.0.post0)\n",
            "Requirement already satisfied: pytz>=2020.1 in c:\\users\\norri\\appdata\\local\\packages\\pythonsoftwarefoundation.python.3.11_qbz5n2kfra8p0\\localcache\\local-packages\\python311\\site-packages (from pandas->datasets) (2025.1)\n",
            "Requirement already satisfied: tzdata>=2022.7 in c:\\users\\norri\\appdata\\local\\packages\\pythonsoftwarefoundation.python.3.11_qbz5n2kfra8p0\\localcache\\local-packages\\python311\\site-packages (from pandas->datasets) (2025.1)\n",
            "Requirement already satisfied: six>=1.5 in c:\\users\\norri\\appdata\\local\\packages\\pythonsoftwarefoundation.python.3.11_qbz5n2kfra8p0\\localcache\\local-packages\\python311\\site-packages (from python-dateutil>=2.8.2->pandas->datasets) (1.17.0)\n",
            "Requirement already satisfied: MarkupSafe>=2.0 in c:\\users\\norri\\appdata\\local\\packages\\pythonsoftwarefoundation.python.3.11_qbz5n2kfra8p0\\localcache\\local-packages\\python311\\site-packages (from jinja2->torch>=2.0.0->accelerate) (3.0.2)\n"
          ]
        },
        {
          "output_type": "stream",
          "name": "stderr",
          "text": [
            "C:\\Users\\norri\\AppData\\Local\\Packages\\PythonSoftwareFoundation.Python.3.11_qbz5n2kfra8p0\\LocalCache\\local-packages\\Python311\\site-packages\\tqdm\\auto.py:21: TqdmWarning: IProgress not found. Please update jupyter and ipywidgets. See https://ipywidgets.readthedocs.io/en/stable/user_install.html\n",
            "  from .autonotebook import tqdm as notebook_tqdm\n"
          ]
        },
        {
          "output_type": "stream",
          "name": "stdout",
          "text": [
            "Length of the subset: 256\n",
            "Epoch 0, Step 0: Loss = 1.1952087879180908\n",
            "Epoch 1, Step 0: Loss = 1.0711097717285156\n",
            "Epoch 2, Step 0: Loss = 0.9858610033988953\n",
            "Epoch 3, Step 0: Loss = 0.9025115966796875\n",
            "Epoch 4, Step 0: Loss = 0.8515722155570984\n",
            "Epoch 5, Step 0: Loss = 0.7744954824447632\n",
            "Epoch 6, Step 0: Loss = 0.7035807371139526\n",
            "Epoch 7, Step 0: Loss = 0.6628350019454956\n",
            "Epoch 8, Step 0: Loss = 0.6273400783538818\n",
            "Epoch 9, Step 0: Loss = 0.6010912656784058\n"
          ]
        }
      ]
    },
    {
      "cell_type": "code",
      "source": [
        "# Check the length of the dataset\n",
        "print(f\"Length of the dataset: {len(dataset)}\")\n",
        "\n",
        "# Visualize some images from the dataset\n",
        "import matplotlib.pyplot as plt\n",
        "\n",
        "def visualize_images(dataset, num_images=5):\n",
        "    fig, axes = plt.subplots(1, num_images, figsize=(15, 3))\n",
        "    for i in range(num_images):\n",
        "        # Get an image from the dataset\n",
        "        image = dataset[i][\"pixel_values\"]  # Access the preprocessed tensor\n",
        "        # Convert tensor to numpy and denormalize\n",
        "        image = image.permute(1, 2, 0).cpu().numpy()  # Change from (C, H, W) to (H, W, C)\n",
        "        image = (image * 0.5) + 0.5  # Denormalize from [-1, 1] to [0, 1]\n",
        "        axes[i].imshow(image)\n",
        "        axes[i].axis(\"off\")\n",
        "    plt.show()\n",
        "\n",
        "# Visualize 5 images\n",
        "visualize_images(dataset, num_images=8)"
      ],
      "metadata": {
        "id": "n4xK-I5QZCQg",
        "colab": {
          "base_uri": "https://localhost:8080/",
          "height": 177
        },
        "outputId": "dbd6535c-cdd7-4a82-a728-3d19a6f7a76a"
      },
      "execution_count": null,
      "outputs": [
        {
          "output_type": "stream",
          "name": "stdout",
          "text": [
            "Length of the dataset: 256\n"
          ]
        },
        {
          "output_type": "display_data",
          "data": {
            "text/plain": [
              "<Figure size 1500x300 with 8 Axes>"
            ],
            "image/png": "[encoded data removed]"
          },
          "metadata": {}
        }
      ]
    },
    {
      "cell_type": "markdown",
      "source": [
        "## Generate images from the trained model"
      ],
      "metadata": {
        "id": "_rQ45b-0ZGiI"
      }
    },
    {
      "cell_type": "code",
      "source": [
        "import torch\n",
        "from diffusers import DDPMScheduler\n",
        "from diffusers import UNet2DModel\n",
        "import matplotlib.pyplot as plt\n",
        "\n",
        "# Load the trained model\n",
        "model = UNet2DModel(\n",
        "    sample_size=16,  # Match the image size used during training\n",
        "    in_channels=3,\n",
        "    out_channels=3,\n",
        "    layers_per_block=2,\n",
        "    block_out_channels=(32, 64, 128, 256),  # Number of channels in each block\n",
        "    down_block_types=(\n",
        "        \"DownBlock2D\",     # Downsampling blocks\n",
        "        \"DownBlock2D\",\n",
        "        \"AttnDownBlock2D\", # Downsampling blocks with attention\n",
        "        \"AttnDownBlock2D\",\n",
        "    ),\n",
        "    up_block_types=(\n",
        "        \"AttnUpBlock2D\",   # Upsampling blocks with attention\n",
        "        \"AttnUpBlock2D\",\n",
        "        \"UpBlock2D\",       # Upsampling blocks\n",
        "        \"UpBlock2D\"),\n",
        ").to(\"cuda\")\n",
        "\n",
        "# Load the saved model weights\n",
        "model.load_state_dict(torch.load(\"animal_diffusion_model.pth\"))\n",
        "model.eval()  # Set the model to evaluation mode\n",
        "\n",
        "# Set up the noise scheduler\n",
        "noise_scheduler = DDPMScheduler(num_train_timesteps=1000)\n",
        "\n",
        "# Function to generate images\n",
        "def generate_images(num_images=1):\n",
        "    with torch.no_grad():  # Disable gradient computation\n",
        "        # Start from random noise\n",
        "        noise = torch.randn((num_images, 3, 256, 256)).to(\"cuda\")  # Match input dimensions\n",
        "        images = noise\n",
        "\n",
        "        # Denoising loop\n",
        "        for t in noise_scheduler.timesteps:\n",
        "            # Predict the noise residual\n",
        "            noise_pred = model(images, t).sample\n",
        "\n",
        "            # Compute the previous noisy sample x_t-1\n",
        "            images = noise_scheduler.step(noise_pred, t, images).prev_sample\n",
        "\n",
        "        # Convert images to CPU and denormalize\n",
        "        images = images.detach().cpu()\n",
        "        images = (images * 0.5) + 0.5  # Denormalize from [-1, 1] to [0, 1]\n",
        "        images = torch.clamp(images, 0, 1)  # Clamp to valid pixel range\n",
        "        return images\n",
        "\n",
        "# Generate and visualize images\n",
        "num_images = 50\n",
        "generated_images = generate_images(num_images)\n",
        "\n",
        "# Plot the generated images\n",
        "fig, axes = plt.subplots(1, num_images, figsize=(15, 3))\n",
        "for i, img in enumerate(generated_images):\n",
        "    img = img.permute(1, 2, 0)  # Change from (C, H, W) to (H, W, C)\n",
        "    axes[i].imshow(img)\n",
        "    axes[i].axis(\"off\")\n",
        "plt.show()"
      ],
      "metadata": {
        "id": "O_UClDznZVbL"
      },
      "execution_count": null,
      "outputs": []
    },
    {
      "cell_type": "code",
      "source": [
        "import os\n",
        "from matplotlib import pyplot as plt\n",
        "\n",
        "# Create a directory to save the images\n",
        "os.makedirs(\"images\", exist_ok=True)\n",
        "\n",
        "# Plot and save the generated images\n",
        "fig, axes = plt.subplots(1, num_images, figsize=(15, 3))\n",
        "for i, img in enumerate(generated_images):\n",
        "    img = img.permute(1, 2, 0)  # Change from (C, H, W) to (H, W, C)\n",
        "    axes[i].imshow(img)\n",
        "    axes[i].axis(\"off\")\n",
        "\n",
        "    # Save each image with a zero-padded two-digit number\n",
        "    filename = f\"images/animal_{i:02d}.png\"\n",
        "    plt.imsave(filename, img.numpy())\n",
        "\n",
        "# Save the entire grid of images\n",
        "plt.savefig(\"images/animal_grid.png\")\n",
        "plt.show()"
      ],
      "metadata": {
        "id": "r8S7ReetBggn",
        "colab": {
          "base_uri": "https://localhost:8080/",
          "height": 211
        },
        "outputId": "1061c680-c811-4d98-90b7-6817f11fa74e"
      },
      "execution_count": null,
      "outputs": [
        {
          "output_type": "error",
          "ename": "NameError",
          "evalue": "name 'num_images' is not defined",
          "traceback": [
            "\u001b[0;31m---------------------------------------------------------------------------\u001b[0m",
            "\u001b[0;31mNameError\u001b[0m                                 Traceback (most recent call last)",
            "\u001b[0;32m<ipython-input-1-4cbcb2ed792f>\u001b[0m in \u001b[0;36m<cell line: 0>\u001b[0;34m()\u001b[0m\n\u001b[1;32m      6\u001b[0m \u001b[0;34m\u001b[0m\u001b[0m\n\u001b[1;32m      7\u001b[0m \u001b[0;31m# Plot and save the generated images\u001b[0m\u001b[0;34m\u001b[0m\u001b[0;34m\u001b[0m\u001b[0m\n\u001b[0;32m----> 8\u001b[0;31m \u001b[0mfig\u001b[0m\u001b[0;34m,\u001b[0m \u001b[0maxes\u001b[0m \u001b[0;34m=\u001b[0m \u001b[0mplt\u001b[0m\u001b[0;34m.\u001b[0m\u001b[0msubplots\u001b[0m\u001b[0;34m(\u001b[0m\u001b[0;36m1\u001b[0m\u001b[0;34m,\u001b[0m \u001b[0mnum_images\u001b[0m\u001b[0;34m,\u001b[0m \u001b[0mfigsize\u001b[0m\u001b[0;34m=\u001b[0m\u001b[0;34m(\u001b[0m\u001b[0;36m15\u001b[0m\u001b[0;34m,\u001b[0m \u001b[0;36m3\u001b[0m\u001b[0;34m)\u001b[0m\u001b[0;34m)\u001b[0m\u001b[0;34m\u001b[0m\u001b[0;34m\u001b[0m\u001b[0m\n\u001b[0m\u001b[1;32m      9\u001b[0m \u001b[0;32mfor\u001b[0m \u001b[0mi\u001b[0m\u001b[0;34m,\u001b[0m \u001b[0mimg\u001b[0m \u001b[0;32min\u001b[0m \u001b[0menumerate\u001b[0m\u001b[0;34m(\u001b[0m\u001b[0mgenerated_images\u001b[0m\u001b[0;34m)\u001b[0m\u001b[0;34m:\u001b[0m\u001b[0;34m\u001b[0m\u001b[0;34m\u001b[0m\u001b[0m\n\u001b[1;32m     10\u001b[0m     \u001b[0mimg\u001b[0m \u001b[0;34m=\u001b[0m \u001b[0mimg\u001b[0m\u001b[0;34m.\u001b[0m\u001b[0mpermute\u001b[0m\u001b[0;34m(\u001b[0m\u001b[0;36m1\u001b[0m\u001b[0;34m,\u001b[0m \u001b[0;36m2\u001b[0m\u001b[0;34m,\u001b[0m \u001b[0;36m0\u001b[0m\u001b[0;34m)\u001b[0m  \u001b[0;31m# Change from (C, H, W) to (H, W, C)\u001b[0m\u001b[0;34m\u001b[0m\u001b[0;34m\u001b[0m\u001b[0m\n",
            "\u001b[0;31mNameError\u001b[0m: name 'num_images' is not defined"
          ]
        }
      ]
    },
    {
      "cell_type": "code",
      "source": [
        "# !rm -rf images/\n",
        "\n",
        "# Utility to zip a file\n",
        "import shutil\n",
        "shutil.make_archive(\"animals\", \"zip\", \"images\")"
      ],
      "metadata": {
        "id": "TYi9Eh0PHA_c",
        "colab": {
          "base_uri": "https://localhost:8080/",
          "height": 36
        },
        "outputId": "4ae2a68b-a29f-4103-f1bc-be9ed23204bb"
      },
      "execution_count": null,
      "outputs": [
        {
          "output_type": "execute_result",
          "data": {
            "text/plain": [
              "'/content/animals.zip'"
            ],
            "application/vnd.google.colaboratory.intrinsic+json": {
              "type": "string"
            }
          },
          "metadata": {},
          "execution_count": 5
        }
      ]
    }
  ]
}

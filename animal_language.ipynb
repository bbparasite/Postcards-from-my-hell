{
  "nbformat": 4,
  "nbformat_minor": 0,
  "metadata": {
    "colab": {
      "provenance": []
    },
    "kernelspec": {
      "name": "python3",
      "display_name": "Python 3"
    },
    "language_info": {
      "name": "python"
    }
  },
  "cells": [
    {
      "cell_type": "code",
      "execution_count": 9,
      "metadata": {
        "colab": {
          "base_uri": "https://localhost:8080/",
          "height": 70
        },
        "id": "xBcxrWMwJ006",
        "outputId": "a3e5f325-d924-48e2-f30f-1b36eba64899"
      },
      "outputs": [
        {
          "output_type": "stream",
          "name": "stdout",
          "text": [
            "Role: assistant\n",
            "Content:\n"
          ]
        },
        {
          "output_type": "execute_result",
          "data": {
            "text/plain": [
              "'Grrr-raak, Krrr-zhak, Hrum-gak, Tchik-tchik, Vrrr-oom, Gurg-gurg, Kree-raak, Blrrr-zhak, Hrrr-oo, Chrrr-raak, Zzzak-zzak, Rrrr-oom, Krrr-raak, Hrum-tchik, Grrr-raak, Vrrr-raak, Chrrr-rrr.'"
            ],
            "application/vnd.google.colaboratory.intrinsic+json": {
              "type": "string"
            }
          },
          "metadata": {},
          "execution_count": 9
        }
      ],
      "source": [
        "from google.colab import userdata\n",
        "OPENAI_API_KEY = userdata.get('OPENAI_API_KEY')\n",
        "\n",
        "from openai import OpenAI\n",
        "client = OpenAI(api_key=(OPENAI_API_KEY))\n",
        "\n",
        "completion = client.chat.completions.create(\n",
        "    model=\"gpt-4o-mini\",\n",
        "    messages=[\n",
        "      {\n",
        "        \"role\": \"user\",\n",
        "        \"content\": [\n",
        "          {\n",
        "            \"type\": \"text\",\n",
        "            \"text\": \"Create 16 of these vocalizations\"\n",
        "          }\n",
        "        ]\n",
        "      },\n",
        "      {\n",
        "        \"role\": \"developer\",\n",
        "        \"content\": [\n",
        "          {\n",
        "            \"type\": \"text\",\n",
        "            \"text\": \"\"\"Generate an alien animal language composed entirely of guttural vocalizations and sounds produced from the throat.\n",
        "            The language should be complex enough to allow for communication of emotions, warnings, and simple commands.\n",
        "            Consider how the species' anatomy (such as multiple vocal cords, resonating chambers, or a non-human larynx) influences the range of sounds.\n",
        "            Provide a phonetic transcription of sample words or phrases, explanations of their meanings, and basic grammatical rules if applicable.\n",
        "            The language should sound primal, raw, and organic—like a mix of growls, clicks, gurgles, and deep resonant hums.\n",
        "            Generate only in the form of the sounds that these animals would make in the form of onomatopoeias.\n",
        "            Don't explain anything just output what the sounds would sound like in written form.\n",
        "            \"\"\"\n",
        "          }\n",
        "        ]\n",
        "      },\n",
        "      {\n",
        "      \"role\": \"assistant\",\n",
        "      \"content\": [\n",
        "          { \"type\": \"text\", \"text\": \"Gral-tok Chrikka-tk, Chree-gral Ssaa-raak\"\n",
        "          }\n",
        "        ]\n",
        "      }\n",
        "    ],\n",
        "    temperature=1.5,\n",
        "    max_completion_tokens=150,\n",
        "    top_p=0.2\n",
        "  )\n",
        "\n",
        "print(\"Role:\", completion.choices[0].message.role)\n",
        "print(\"Content:\")\n",
        "completion.choices[0].message.content"
      ]
    }
  ]
}